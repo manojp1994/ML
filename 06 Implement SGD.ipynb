{
 "cells": [
  {
   "cell_type": "code",
   "execution_count": 1,
   "metadata": {
    "colab": {},
    "colab_type": "code",
    "id": "REYPoTJ1Af7u"
   },
   "outputs": [],
   "source": [
    "import warnings\n",
    "warnings.filterwarnings(\"ignore\")\n",
    "from sklearn.datasets import load_boston\n",
    "from random import seed\n",
    "from random import randrange\n",
    "from csv import reader\n",
    "from math import sqrt\n",
    "from sklearn import preprocessing\n",
    "import pandas as pd\n",
    "import numpy as np\n",
    "import matplotlib.pyplot as plt\n",
    "from prettytable import PrettyTable\n",
    "from sklearn.linear_model import SGDRegressor\n",
    "from sklearn import preprocessing\n",
    "from sklearn.metrics import mean_squared_error"
   ]
  },
  {
   "cell_type": "code",
   "execution_count": 2,
   "metadata": {
    "colab": {},
    "colab_type": "code",
    "id": "NTQ2iH-kAwbo"
   },
   "outputs": [],
   "source": [
    "X = load_boston().data\n",
    "Y = load_boston().target"
   ]
  },
  {
   "cell_type": "code",
   "execution_count": 3,
   "metadata": {},
   "outputs": [
    {
     "name": "stdout",
     "output_type": "stream",
     "text": [
      "        0     1     2    3      4      5     6       7    8      9     10  \\\n",
      "0  0.00632  18.0  2.31  0.0  0.538  6.575  65.2  4.0900  1.0  296.0  15.3   \n",
      "1  0.02731   0.0  7.07  0.0  0.469  6.421  78.9  4.9671  2.0  242.0  17.8   \n",
      "2  0.02729   0.0  7.07  0.0  0.469  7.185  61.1  4.9671  2.0  242.0  17.8   \n",
      "3  0.03237   0.0  2.18  0.0  0.458  6.998  45.8  6.0622  3.0  222.0  18.7   \n",
      "4  0.06905   0.0  2.18  0.0  0.458  7.147  54.2  6.0622  3.0  222.0  18.7   \n",
      "\n",
      "       11    12  \n",
      "0  396.90  4.98  \n",
      "1  396.90  9.14  \n",
      "2  392.83  4.03  \n",
      "3  394.63  2.94  \n",
      "4  396.90  5.33  \n"
     ]
    }
   ],
   "source": [
    "# converting train data to dataframe\n",
    "boston_df=pd.DataFrame(X)\n",
    "print(boston_df.head())\n",
    "# for col in boston_df.columns: \n",
    "#     print(col) "
   ]
  },
  {
   "cell_type": "code",
   "execution_count": 4,
   "metadata": {},
   "outputs": [],
   "source": [
    "#Splitting whole data into train and test\n",
    "from sklearn.model_selection  import train_test_split\n",
    "X_train, X_test, y_train, y_test=train_test_split(X, Y, test_size=0.3, random_state=5)"
   ]
  },
  {
   "cell_type": "code",
   "execution_count": 5,
   "metadata": {
    "colab": {},
    "colab_type": "code",
    "id": "FgUW39s6Be0U"
   },
   "outputs": [],
   "source": [
    "# applying column standardization on train and test data\n",
    "scaler = preprocessing.StandardScaler().fit(X)\n",
    "X = scaler.transform(X)\n",
    "\n",
    "X_train=scaler.fit_transform(X_train)\n",
    "X_test=scaler.transform(X_test)"
   ]
  },
  {
   "cell_type": "code",
   "execution_count": 6,
   "metadata": {},
   "outputs": [
    {
     "data": {
      "text/html": [
       "<div>\n",
       "<style scoped>\n",
       "    .dataframe tbody tr th:only-of-type {\n",
       "        vertical-align: middle;\n",
       "    }\n",
       "\n",
       "    .dataframe tbody tr th {\n",
       "        vertical-align: top;\n",
       "    }\n",
       "\n",
       "    .dataframe thead th {\n",
       "        text-align: right;\n",
       "    }\n",
       "</style>\n",
       "<table border=\"1\" class=\"dataframe\">\n",
       "  <thead>\n",
       "    <tr style=\"text-align: right;\">\n",
       "      <th></th>\n",
       "      <th>0</th>\n",
       "      <th>1</th>\n",
       "      <th>2</th>\n",
       "      <th>3</th>\n",
       "      <th>4</th>\n",
       "      <th>5</th>\n",
       "      <th>6</th>\n",
       "      <th>7</th>\n",
       "      <th>8</th>\n",
       "      <th>9</th>\n",
       "      <th>10</th>\n",
       "      <th>11</th>\n",
       "      <th>12</th>\n",
       "      <th>price</th>\n",
       "    </tr>\n",
       "  </thead>\n",
       "  <tbody>\n",
       "    <tr>\n",
       "      <th>0</th>\n",
       "      <td>0.875509</td>\n",
       "      <td>-0.499618</td>\n",
       "      <td>1.069608</td>\n",
       "      <td>-0.251124</td>\n",
       "      <td>1.645428</td>\n",
       "      <td>0.233772</td>\n",
       "      <td>0.969882</td>\n",
       "      <td>-0.900522</td>\n",
       "      <td>1.654486</td>\n",
       "      <td>1.538813</td>\n",
       "      <td>0.810913</td>\n",
       "      <td>-3.463820</td>\n",
       "      <td>1.611369</td>\n",
       "      <td>11.8</td>\n",
       "    </tr>\n",
       "    <tr>\n",
       "      <th>1</th>\n",
       "      <td>0.474665</td>\n",
       "      <td>-0.499618</td>\n",
       "      <td>1.069608</td>\n",
       "      <td>-0.251124</td>\n",
       "      <td>1.113435</td>\n",
       "      <td>-0.149715</td>\n",
       "      <td>0.383159</td>\n",
       "      <td>-0.926152</td>\n",
       "      <td>1.654486</td>\n",
       "      <td>1.538813</td>\n",
       "      <td>0.810913</td>\n",
       "      <td>-2.872888</td>\n",
       "      <td>1.265636</td>\n",
       "      <td>11.0</td>\n",
       "    </tr>\n",
       "    <tr>\n",
       "      <th>2</th>\n",
       "      <td>0.273444</td>\n",
       "      <td>-0.499618</td>\n",
       "      <td>1.069608</td>\n",
       "      <td>-0.251124</td>\n",
       "      <td>-0.168580</td>\n",
       "      <td>0.653301</td>\n",
       "      <td>0.270733</td>\n",
       "      <td>-0.241993</td>\n",
       "      <td>1.654486</td>\n",
       "      <td>1.538813</td>\n",
       "      <td>0.810913</td>\n",
       "      <td>0.389957</td>\n",
       "      <td>-0.671032</td>\n",
       "      <td>23.7</td>\n",
       "    </tr>\n",
       "    <tr>\n",
       "      <th>3</th>\n",
       "      <td>-0.417342</td>\n",
       "      <td>3.445319</td>\n",
       "      <td>-1.442682</td>\n",
       "      <td>-0.251124</td>\n",
       "      <td>-1.293614</td>\n",
       "      <td>1.372699</td>\n",
       "      <td>-1.591321</td>\n",
       "      <td>2.387078</td>\n",
       "      <td>-0.527917</td>\n",
       "      <td>-1.061095</td>\n",
       "      <td>-0.265106</td>\n",
       "      <td>0.421447</td>\n",
       "      <td>-1.082820</td>\n",
       "      <td>35.4</td>\n",
       "    </tr>\n",
       "    <tr>\n",
       "      <th>4</th>\n",
       "      <td>-0.400634</td>\n",
       "      <td>-0.499618</td>\n",
       "      <td>2.504352</td>\n",
       "      <td>-0.251124</td>\n",
       "      <td>0.502952</td>\n",
       "      <td>-1.215116</td>\n",
       "      <td>0.896102</td>\n",
       "      <td>-0.982361</td>\n",
       "      <td>-0.642780</td>\n",
       "      <td>1.804713</td>\n",
       "      <td>0.764129</td>\n",
       "      <td>0.412198</td>\n",
       "      <td>0.779361</td>\n",
       "      <td>15.2</td>\n",
       "    </tr>\n",
       "  </tbody>\n",
       "</table>\n",
       "</div>"
      ],
      "text/plain": [
       "          0         1         2         3         4         5         6  \\\n",
       "0  0.875509 -0.499618  1.069608 -0.251124  1.645428  0.233772  0.969882   \n",
       "1  0.474665 -0.499618  1.069608 -0.251124  1.113435 -0.149715  0.383159   \n",
       "2  0.273444 -0.499618  1.069608 -0.251124 -0.168580  0.653301  0.270733   \n",
       "3 -0.417342  3.445319 -1.442682 -0.251124 -1.293614  1.372699 -1.591321   \n",
       "4 -0.400634 -0.499618  2.504352 -0.251124  0.502952 -1.215116  0.896102   \n",
       "\n",
       "          7         8         9        10        11        12  price  \n",
       "0 -0.900522  1.654486  1.538813  0.810913 -3.463820  1.611369   11.8  \n",
       "1 -0.926152  1.654486  1.538813  0.810913 -2.872888  1.265636   11.0  \n",
       "2 -0.241993  1.654486  1.538813  0.810913  0.389957 -0.671032   23.7  \n",
       "3  2.387078 -0.527917 -1.061095 -0.265106  0.421447 -1.082820   35.4  \n",
       "4 -0.982361 -0.642780  1.804713  0.764129  0.412198  0.779361   15.2  "
      ]
     },
     "execution_count": 6,
     "metadata": {},
     "output_type": "execute_result"
    }
   ],
   "source": [
    "boston_df_train=pd.DataFrame(X_train)\n",
    "boston_df_train['price']=y_train\n",
    "boston_df_train.head()"
   ]
  },
  {
   "cell_type": "code",
   "execution_count": 7,
   "metadata": {},
   "outputs": [
    {
     "name": "stdout",
     "output_type": "stream",
     "text": [
      "0        0\n",
      "1        0\n",
      "2        0\n",
      "3        0\n",
      "4        0\n",
      "5        0\n",
      "6        0\n",
      "7        0\n",
      "8        0\n",
      "9        0\n",
      "10       0\n",
      "11       0\n",
      "12       0\n",
      "price    0\n",
      "dtype: int64\n"
     ]
    }
   ],
   "source": [
    "print(boston_df_train.isnull().sum())"
   ]
  },
  {
   "cell_type": "code",
   "execution_count": 8,
   "metadata": {},
   "outputs": [
    {
     "name": "stdout",
     "output_type": "stream",
     "text": [
      "(354, 14)\n"
     ]
    }
   ],
   "source": [
    "print(boston_df_train.shape)"
   ]
  },
  {
   "cell_type": "code",
   "execution_count": 162,
   "metadata": {},
   "outputs": [
    {
     "name": "stdout",
     "output_type": "stream",
     "text": [
      "(1, 13)\n",
      "(1,)\n",
      "temp_slope [[-18.89813255  25.53129981 -69.17482826  21.34351872 -71.51425142\n",
      "  -38.7030151  -53.92207454  62.32059761 -31.3728457  -42.15630818\n",
      "   42.60199391  -9.03777923   3.77643948]]\n",
      "temp_intercept [-8.36262468]\n"
     ]
    }
   ],
   "source": [
    "# SGD implementation for linear regression\n",
    "\n",
    "WEI,BIA,iteration,lr_rate,k=np.zeros(shape=(1,13)),0,1000,0.01,20 #intialise WEI and BIA to zero\n",
    "for iteration in range(1000, 0, -1):\n",
    "    wei,bia,temp_slope,temp_intercept=WEI,BIA,np.zeros(shape=(1,13)),0\n",
    "# values=len(boston_df_train)\n",
    "    data=boston_df_train.sample(20) #sampling random k=batch size=20 data(this is where SGD comes in to picture )\n",
    "    x=np.array(data.drop('price',axis=1))\n",
    "#     print(\"x\",x)\n",
    "    y=np.array(data['price'])\n",
    "#     print(\"y\",y)\n",
    "    for i in range(k):\n",
    "        temp_slope+=(-2)*x[i]*(y[i]-(np.dot(wei,x[i])+bia))#partial differentiation wrt w dl/dw=1/k(-2x)*(y-wTx-b)\n",
    "        temp_intercept+=(-2)*(y[i]-(np.dot(wei,x[i])+bia))#partial differentiation wrt b dl/db=1/k(-2)*(y-wTx-b)\n",
    "    WEI=(wei-lr_rate*(temp_slope )/k)\n",
    "    BIA=(bia-lr_rate*(temp_intercept)/k)\n",
    "    \n",
    "print(WEI.shape)\n",
    "print(BIA.shape)\n",
    "print(\"temp_slope\",temp_slope)\n",
    "print(\"temp_intercept\",temp_intercept)\n"
   ]
  },
  {
   "cell_type": "code",
   "execution_count": 160,
   "metadata": {},
   "outputs": [],
   "source": [
    "#prediction on x_test\n",
    "# https://docs.scipy.org/doc/numpy/reference/generated/numpy.asscalar.html\n",
    "# print(X_test.shape)\n",
    "y_predic_deriv=[]\n",
    "for i in range(len(X_test)):\n",
    "#     https://www.pyimagesearch.com/2016/10/17/stochastic-gradient-descent-sgd-with-python/\n",
    "    val=np.dot(WEI,X_test[i])+BIA  # It denotes dot product of transpose with respect to wei on test data for each iteration + bia\n",
    "    y_predic_deriv.append(np.asscalar(val))\n",
    "# print(y_predic_deriv)"
   ]
  },
  {
   "cell_type": "code",
   "execution_count": 138,
   "metadata": {},
   "outputs": [
    {
     "data": {
      "image/png": "[encoded data removed]",
      "text/plain": [
       "<Figure size 432x288 with 1 Axes>"
      ]
     },
     "metadata": {},
     "output_type": "display_data"
    }
   ],
   "source": [
    "#Scatter plot of actual price vs predicted price\n",
    "plt.scatter(y_test,y_predic_deriv)\n",
    "plt.xlabel('Actual price')\n",
    "plt.ylabel('Predictd price')\n",
    "plt.title('Actual price vs Predicted price')\n",
    "plt.show()"
   ]
  },
  {
   "cell_type": "code",
   "execution_count": 139,
   "metadata": {},
   "outputs": [
    {
     "data": {
      "image/png": "[encoded data removed]",
      "text/plain": [
       "<Figure size 432x288 with 1 Axes>"
      ]
     },
     "metadata": {},
     "output_type": "display_data"
    }
   ],
   "source": [
    "import math\n",
    "r=[0.00001,0.0001,0.001,0.01,0.5,0.1,1,10,100,1000,10000]\n",
    "x1=[math.log10(i) for i in r]\n",
    "plt.plot(x1,y_test[0:11],label='y_test')\n",
    "plt.plot(x1,y_predic_deriv[0:11],label='y_predic_deriv')\n",
    "plt.scatter(x1,y_test[0:11])\n",
    "plt.scatter(x1,y_predic_deriv[0:11])\n",
    "plt.legend()\n",
    "plt.xlabel('log of learning rate')\n",
    "plt.ylabel('Mean Squared Error')\n",
    "plt.title('log(learning rate) vs MSE')\n",
    "plt.grid()\n",
    "plt.show()"
   ]
  },
  {
   "cell_type": "code",
   "execution_count": 152,
   "metadata": {},
   "outputs": [
    {
     "name": "stdout",
     "output_type": "stream",
     "text": [
      "152\n",
      "mean squared error = 31.4230956333\n"
     ]
    }
   ],
   "source": [
    "print(len(y_predic_deriv))\n",
    "MSE_deriv=mean_squared_error(y_test,y_predic_deriv)\n",
    "print('mean squared error =',MSE_deriv)"
   ]
  },
  {
   "cell_type": "code",
   "execution_count": 141,
   "metadata": {},
   "outputs": [],
   "source": [
    "#SGD regression sklearn implementation\n",
    "clf=SGDRegressor()\n",
    "clf.fit(X_train,y_train)\n",
    "y_pred_SGD=clf.predict(X_test)"
   ]
  },
  {
   "cell_type": "code",
   "execution_count": 142,
   "metadata": {},
   "outputs": [
    {
     "data": {
      "image/png": "[encoded data removed]",
      "text/plain": [
       "<Figure size 432x288 with 1 Axes>"
      ]
     },
     "metadata": {},
     "output_type": "display_data"
    }
   ],
   "source": [
    "#Scatter plot of actual price vs predicted price\n",
    "plt.scatter(y_test,y_pred_SGD)\n",
    "plt.xlabel('Actual price')\n",
    "plt.ylabel('Predictd price')\n",
    "plt.title('Actual price vs Predicted price')\n",
    "plt.show()"
   ]
  },
  {
   "cell_type": "code",
   "execution_count": 143,
   "metadata": {},
   "outputs": [
    {
     "data": {
      "image/png": "[encoded data removed]",
      "text/plain": [
       "<Figure size 432x288 with 1 Axes>"
      ]
     },
     "metadata": {},
     "output_type": "display_data"
    }
   ],
   "source": [
    "import math\n",
    "r=[0.00001,0.0001,0.001,0.01,0.5,0.1,1,10,100,1000,10000]\n",
    "x1=[math.log10(i) for i in r]\n",
    "plt.plot(x1,y_test[0:11],label='y_test')\n",
    "plt.plot(x1,y_predic_deriv[0:11],label='y_pred_SGD')\n",
    "plt.scatter(x1,y_test[0:11])\n",
    "plt.scatter(x1,y_pred_SGD[0:11])\n",
    "plt.legend()\n",
    "plt.xlabel('log of learning rate')\n",
    "plt.ylabel('Mean Squared Error')\n",
    "plt.title('log(learning rate) vs MSE')\n",
    "plt.grid()\n",
    "plt.show()"
   ]
  },
  {
   "cell_type": "code",
   "execution_count": 144,
   "metadata": {},
   "outputs": [],
   "source": [
    "# From the above two scatter plots we can observe there is no much difference between SGD implementation and derivative implementation"
   ]
  },
  {
   "cell_type": "code",
   "execution_count": 145,
   "metadata": {},
   "outputs": [
    {
     "name": "stdout",
     "output_type": "stream",
     "text": [
      "mean squared error = 30.8546235948\n"
     ]
    }
   ],
   "source": [
    "MSE_SGD=mean_squared_error(y_test,y_pred_SGD)\n",
    "print('mean squared error =',MSE_SGD)"
   ]
  },
  {
   "cell_type": "code",
   "execution_count": 146,
   "metadata": {},
   "outputs": [
    {
     "name": "stdout",
     "output_type": "stream",
     "text": [
      "[-1.15335114  0.88670674 -0.371608    0.18838795 -1.32543018  2.80710469\n",
      " -0.35917487 -2.50573676  1.94405901 -1.51637743 -2.06233996  0.97083587\n",
      " -3.22064668]\n"
     ]
    }
   ],
   "source": [
    "for i in WEI:\n",
    "    print(i)"
   ]
  },
  {
   "cell_type": "code",
   "execution_count": 147,
   "metadata": {},
   "outputs": [
    {
     "name": "stdout",
     "output_type": "stream",
     "text": [
      "[-1.19349509  0.8109949  -0.45218493  0.22396757 -1.30365155  2.89162971\n",
      " -0.36774967 -2.63226921  1.8691396  -1.17508132 -2.04006442  1.13303377\n",
      " -3.26151334]\n"
     ]
    }
   ],
   "source": [
    "print(clf.coef_)"
   ]
  },
  {
   "cell_type": "code",
   "execution_count": 148,
   "metadata": {},
   "outputs": [
    {
     "name": "stdout",
     "output_type": "stream",
     "text": [
      "+------------------------+---------------------------+\n",
      "| Weight vector derivate | Weight vector SGD sklearn |\n",
      "+------------------------+---------------------------+\n",
      "|     -1.15335114129     |       -1.19349509092      |\n",
      "|     0.886706738696     |       0.810994902256      |\n",
      "|    -0.371608001737     |      -0.452184934105      |\n",
      "|     0.188387945504     |        0.2239675675       |\n",
      "|     -1.32543018437     |       -1.30365155129      |\n",
      "|     2.80710469237      |       2.89162971135       |\n",
      "|    -0.359174871282     |      -0.367749669598      |\n",
      "|     -2.50573676348     |       -2.63226920571      |\n",
      "|     1.94405900682      |       1.86913959827       |\n",
      "|     -1.51637743027     |       -1.17508132491      |\n",
      "|     -2.06233996046     |       -2.04006442066      |\n",
      "|     0.970835871589     |       1.13303377323       |\n",
      "|     -3.22064667808     |       -3.26151333642      |\n",
      "+------------------------+---------------------------+\n"
     ]
    }
   ],
   "source": [
    "# derivative and SGD Comparision\n",
    "# https://scikit-learn.org/stable/modules/generated/sklearn.linear_model.LinearRegression.html\n",
    "from prettytable import PrettyTable    \n",
    "x = PrettyTable()\n",
    "x.field_names=['Weight vector derivate','Weight vector SGD sklearn']\n",
    "for i in range(13): # since there are 13 columns\n",
    "    x.add_row([WEI[0][i],clf.coef_[i]])\n",
    "print(x)"
   ]
  },
  {
   "cell_type": "code",
   "execution_count": 149,
   "metadata": {},
   "outputs": [],
   "source": [
    "# we applied SGD regressor in sklearn and compared weight ,mean squared error and scatter plot using derivative implementation.\n",
    "# we observed that weights, scatter plots and mean squared error were nearly equal."
   ]
  }
 ],
 "metadata": {
  "colab": {
   "name": "Untitled3.ipynb",
   "provenance": [],
   "version": "0.3.2"
  },
  "kernelspec": {
   "display_name": "Python 3",
   "language": "python",
   "name": "python3"
  },
  "language_info": {
   "codemirror_mode": {
    "name": "ipython",
    "version": 3
   },
   "file_extension": ".py",
   "mimetype": "text/x-python",
   "name": "python",
   "nbconvert_exporter": "python",
   "pygments_lexer": "ipython3",
   "version": "3.6.2"
  }
 },
 "nbformat": 4,
 "nbformat_minor": 1
}
